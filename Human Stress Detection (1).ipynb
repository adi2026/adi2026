{
 "cells": [
  {
   "cell_type": "code",
   "execution_count": 1,
   "id": "04b6f6d9",
   "metadata": {},
   "outputs": [],
   "source": [
    "# INTRODUCTION\n",
    "# This notebook addresses stress level detection regarding body humidity, body temperature, and the number of steps."
   ]
  },
  {
   "cell_type": "code",
   "execution_count": 11,
   "id": "f1240bb6",
   "metadata": {},
   "outputs": [],
   "source": [
    "#Import Packages and Data\n",
    "\n",
    "# Ignore warnings\n",
    "import warnings\n",
    "warnings.simplefilter(\"ignore\")\n",
    "\n",
    "# Frequently using packages\n",
    "import numpy as np\n",
    "import pandas as pd\n",
    "import matplotlib.pyplot as plt\n",
    "import seaborn as sns\n",
    "\n",
    "# Useful data handling package\n",
    "! pip install dfply -q\n",
    "from dfply import *\n",
    "\n",
    "# Data Analyses\n",
    "from sklearn.model_selection import train_test_split\n",
    "from sklearn import tree\n",
    "from sklearn.tree import plot_tree\n",
    "from sklearn.model_selection import train_test_split\n",
    "from sklearn.ensemble import RandomForestClassifier\n",
    "from sklearn.metrics import accuracy_score\n",
    "from sklearn.metrics import r2_score\n",
    "from sklearn.metrics import mean_squared_error"
   ]
  },
  {
   "cell_type": "code",
   "execution_count": 12,
   "id": "f18cb85f",
   "metadata": {},
   "outputs": [],
   "source": [
    "# Import Packages and Data\n",
    "df_stress = pd.read_csv('Stress-Lysis.csv')"
   ]
  },
  {
   "cell_type": "code",
   "execution_count": 15,
   "id": "5df4bff5",
   "metadata": {},
   "outputs": [
    {
     "data": {
      "text/html": [
       "<div>\n",
       "<style scoped>\n",
       "    .dataframe tbody tr th:only-of-type {\n",
       "        vertical-align: middle;\n",
       "    }\n",
       "\n",
       "    .dataframe tbody tr th {\n",
       "        vertical-align: top;\n",
       "    }\n",
       "\n",
       "    .dataframe thead th {\n",
       "        text-align: right;\n",
       "    }\n",
       "</style>\n",
       "<table border=\"1\" class=\"dataframe\">\n",
       "  <thead>\n",
       "    <tr style=\"text-align: right;\">\n",
       "      <th></th>\n",
       "      <th>Humidity</th>\n",
       "      <th>Temperature</th>\n",
       "      <th>Step count</th>\n",
       "      <th>Stress Level</th>\n",
       "    </tr>\n",
       "  </thead>\n",
       "  <tbody>\n",
       "    <tr>\n",
       "      <th>0</th>\n",
       "      <td>21.33</td>\n",
       "      <td>90.33</td>\n",
       "      <td>123</td>\n",
       "      <td>1</td>\n",
       "    </tr>\n",
       "    <tr>\n",
       "      <th>1</th>\n",
       "      <td>21.41</td>\n",
       "      <td>90.41</td>\n",
       "      <td>93</td>\n",
       "      <td>1</td>\n",
       "    </tr>\n",
       "    <tr>\n",
       "      <th>2</th>\n",
       "      <td>27.12</td>\n",
       "      <td>96.12</td>\n",
       "      <td>196</td>\n",
       "      <td>2</td>\n",
       "    </tr>\n",
       "    <tr>\n",
       "      <th>3</th>\n",
       "      <td>27.64</td>\n",
       "      <td>96.64</td>\n",
       "      <td>177</td>\n",
       "      <td>2</td>\n",
       "    </tr>\n",
       "    <tr>\n",
       "      <th>4</th>\n",
       "      <td>10.87</td>\n",
       "      <td>79.87</td>\n",
       "      <td>87</td>\n",
       "      <td>0</td>\n",
       "    </tr>\n",
       "    <tr>\n",
       "      <th>5</th>\n",
       "      <td>11.31</td>\n",
       "      <td>80.31</td>\n",
       "      <td>40</td>\n",
       "      <td>0</td>\n",
       "    </tr>\n",
       "    <tr>\n",
       "      <th>6</th>\n",
       "      <td>18.16</td>\n",
       "      <td>87.16</td>\n",
       "      <td>88</td>\n",
       "      <td>1</td>\n",
       "    </tr>\n",
       "    <tr>\n",
       "      <th>7</th>\n",
       "      <td>28.20</td>\n",
       "      <td>97.20</td>\n",
       "      <td>162</td>\n",
       "      <td>2</td>\n",
       "    </tr>\n",
       "    <tr>\n",
       "      <th>8</th>\n",
       "      <td>14.25</td>\n",
       "      <td>83.25</td>\n",
       "      <td>61</td>\n",
       "      <td>0</td>\n",
       "    </tr>\n",
       "    <tr>\n",
       "      <th>9</th>\n",
       "      <td>26.13</td>\n",
       "      <td>95.13</td>\n",
       "      <td>168</td>\n",
       "      <td>2</td>\n",
       "    </tr>\n",
       "  </tbody>\n",
       "</table>\n",
       "</div>"
      ],
      "text/plain": [
       "   Humidity  Temperature  Step count  Stress Level\n",
       "0     21.33        90.33         123             1\n",
       "1     21.41        90.41          93             1\n",
       "2     27.12        96.12         196             2\n",
       "3     27.64        96.64         177             2\n",
       "4     10.87        79.87          87             0\n",
       "5     11.31        80.31          40             0\n",
       "6     18.16        87.16          88             1\n",
       "7     28.20        97.20         162             2\n",
       "8     14.25        83.25          61             0\n",
       "9     26.13        95.13         168             2"
      ]
     },
     "execution_count": 15,
     "metadata": {},
     "output_type": "execute_result"
    }
   ],
   "source": [
    "df_stress.head(10)"
   ]
  },
  {
   "cell_type": "code",
   "execution_count": 16,
   "id": "234c1d72",
   "metadata": {},
   "outputs": [
    {
     "data": {
      "text/plain": [
       "2001"
      ]
     },
     "execution_count": 16,
     "metadata": {},
     "output_type": "execute_result"
    }
   ],
   "source": [
    "len(df_stress)"
   ]
  },
  {
   "cell_type": "code",
   "execution_count": 17,
   "id": "2be879d4",
   "metadata": {},
   "outputs": [
    {
     "data": {
      "text/html": [
       "<div>\n",
       "<style scoped>\n",
       "    .dataframe tbody tr th:only-of-type {\n",
       "        vertical-align: middle;\n",
       "    }\n",
       "\n",
       "    .dataframe tbody tr th {\n",
       "        vertical-align: top;\n",
       "    }\n",
       "\n",
       "    .dataframe thead th {\n",
       "        text-align: right;\n",
       "    }\n",
       "</style>\n",
       "<table border=\"1\" class=\"dataframe\">\n",
       "  <thead>\n",
       "    <tr style=\"text-align: right;\">\n",
       "      <th></th>\n",
       "      <th>Humidity</th>\n",
       "      <th>Temperature</th>\n",
       "      <th>Step_count</th>\n",
       "      <th>Stress_Level</th>\n",
       "    </tr>\n",
       "  </thead>\n",
       "  <tbody>\n",
       "    <tr>\n",
       "      <th>0</th>\n",
       "      <td>21.33</td>\n",
       "      <td>90.33</td>\n",
       "      <td>123</td>\n",
       "      <td>1</td>\n",
       "    </tr>\n",
       "  </tbody>\n",
       "</table>\n",
       "</div>"
      ],
      "text/plain": [
       "   Humidity  Temperature  Step_count  Stress_Level\n",
       "0     21.33        90.33         123             1"
      ]
     },
     "execution_count": 17,
     "metadata": {},
     "output_type": "execute_result"
    }
   ],
   "source": [
    "df_stress = df_stress.rename(columns = {'Step count': 'Step_count', 'Stress Level': 'Stress_Level'})\n",
    "df_stress.head(1)"
   ]
  },
  {
   "cell_type": "code",
   "execution_count": 18,
   "id": "ff8d97c3",
   "metadata": {},
   "outputs": [
    {
     "data": {
      "text/html": [
       "<div>\n",
       "<style scoped>\n",
       "    .dataframe tbody tr th:only-of-type {\n",
       "        vertical-align: middle;\n",
       "    }\n",
       "\n",
       "    .dataframe tbody tr th {\n",
       "        vertical-align: top;\n",
       "    }\n",
       "\n",
       "    .dataframe thead th {\n",
       "        text-align: right;\n",
       "    }\n",
       "</style>\n",
       "<table border=\"1\" class=\"dataframe\">\n",
       "  <thead>\n",
       "    <tr style=\"text-align: right;\">\n",
       "      <th></th>\n",
       "      <th>Stress_Level</th>\n",
       "      <th>Humidity_size</th>\n",
       "      <th>Humidity_min</th>\n",
       "      <th>Humidity_max</th>\n",
       "      <th>Humidity_mean</th>\n",
       "      <th>Humidity_sd</th>\n",
       "      <th>Humidity_cil</th>\n",
       "      <th>Humidity_cih</th>\n",
       "    </tr>\n",
       "  </thead>\n",
       "  <tbody>\n",
       "    <tr>\n",
       "      <th>4</th>\n",
       "      <td>0</td>\n",
       "      <td>501</td>\n",
       "      <td>10.00</td>\n",
       "      <td>24.64</td>\n",
       "      <td>12.519960</td>\n",
       "      <td>1.541525</td>\n",
       "      <td>9.498572</td>\n",
       "      <td>15.541348</td>\n",
       "    </tr>\n",
       "    <tr>\n",
       "      <th>0</th>\n",
       "      <td>1</td>\n",
       "      <td>791</td>\n",
       "      <td>15.01</td>\n",
       "      <td>30.65</td>\n",
       "      <td>18.969760</td>\n",
       "      <td>2.316635</td>\n",
       "      <td>14.429155</td>\n",
       "      <td>23.510365</td>\n",
       "    </tr>\n",
       "    <tr>\n",
       "      <th>2</th>\n",
       "      <td>2</td>\n",
       "      <td>709</td>\n",
       "      <td>22.91</td>\n",
       "      <td>30.00</td>\n",
       "      <td>26.454457</td>\n",
       "      <td>2.051194</td>\n",
       "      <td>22.434116</td>\n",
       "      <td>30.474798</td>\n",
       "    </tr>\n",
       "  </tbody>\n",
       "</table>\n",
       "</div>"
      ],
      "text/plain": [
       "   Stress_Level  Humidity_size  Humidity_min  Humidity_max  Humidity_mean  \\\n",
       "4             0            501         10.00         24.64      12.519960   \n",
       "0             1            791         15.01         30.65      18.969760   \n",
       "2             2            709         22.91         30.00      26.454457   \n",
       "\n",
       "   Humidity_sd  Humidity_cil  Humidity_cih  \n",
       "4     1.541525      9.498572     15.541348  \n",
       "0     2.316635     14.429155     23.510365  \n",
       "2     2.051194     22.434116     30.474798  "
      ]
     },
     "execution_count": 18,
     "metadata": {},
     "output_type": "execute_result"
    }
   ],
   "source": [
    "# Data Description\n",
    "# Humidity\n",
    "\n",
    "df_stress >> group_by(X.Stress_Level) >> mutate(\n",
    "    Humidity_size = X.Humidity.count(),\n",
    "    Humidity_min = np.min(X.Humidity),\n",
    "    Humidity_max = np.max(X.Humidity),\n",
    "    Humidity_mean = np.mean(X.Humidity),\n",
    "    Humidity_sd = np.std(X.Humidity),\n",
    "    Humidity_cil = np.mean(X.Humidity) - 1.96 * np.std(X.Humidity),\n",
    "    Humidity_cih = np.mean(X.Humidity) + 1.96 * np.std(X.Humidity)\n",
    ") >> head(1) >> select(\n",
    "    X.Stress_Level,\n",
    "    X.Humidity_size, X.Humidity_min, X.Humidity_max,\n",
    "    X.Humidity_mean, X.Humidity_sd, X.Humidity_cil, X.Humidity_cih\n",
    ")"
   ]
  },
  {
   "cell_type": "code",
   "execution_count": 19,
   "id": "0828d9ef",
   "metadata": {},
   "outputs": [
    {
     "data": {
      "text/html": [
       "<div>\n",
       "<style scoped>\n",
       "    .dataframe tbody tr th:only-of-type {\n",
       "        vertical-align: middle;\n",
       "    }\n",
       "\n",
       "    .dataframe tbody tr th {\n",
       "        vertical-align: top;\n",
       "    }\n",
       "\n",
       "    .dataframe thead th {\n",
       "        text-align: right;\n",
       "    }\n",
       "</style>\n",
       "<table border=\"1\" class=\"dataframe\">\n",
       "  <thead>\n",
       "    <tr style=\"text-align: right;\">\n",
       "      <th></th>\n",
       "      <th>Stress_Level</th>\n",
       "      <th>Temperature_size</th>\n",
       "      <th>Temperature_min</th>\n",
       "      <th>Temperature_max</th>\n",
       "      <th>Temperature_mean</th>\n",
       "      <th>Temperature_sd</th>\n",
       "      <th>Temperature_cil</th>\n",
       "      <th>Temperature_cih</th>\n",
       "    </tr>\n",
       "  </thead>\n",
       "  <tbody>\n",
       "    <tr>\n",
       "      <th>4</th>\n",
       "      <td>0</td>\n",
       "      <td>501</td>\n",
       "      <td>79.00</td>\n",
       "      <td>87.64</td>\n",
       "      <td>81.507984</td>\n",
       "      <td>1.468915</td>\n",
       "      <td>78.628911</td>\n",
       "      <td>84.387057</td>\n",
       "    </tr>\n",
       "    <tr>\n",
       "      <th>0</th>\n",
       "      <td>1</td>\n",
       "      <td>791</td>\n",
       "      <td>84.01</td>\n",
       "      <td>95.60</td>\n",
       "      <td>87.964665</td>\n",
       "      <td>2.295222</td>\n",
       "      <td>83.466029</td>\n",
       "      <td>92.463301</td>\n",
       "    </tr>\n",
       "    <tr>\n",
       "      <th>2</th>\n",
       "      <td>2</td>\n",
       "      <td>709</td>\n",
       "      <td>74.50</td>\n",
       "      <td>99.00</td>\n",
       "      <td>95.422722</td>\n",
       "      <td>2.195980</td>\n",
       "      <td>91.118601</td>\n",
       "      <td>99.726844</td>\n",
       "    </tr>\n",
       "  </tbody>\n",
       "</table>\n",
       "</div>"
      ],
      "text/plain": [
       "   Stress_Level  Temperature_size  Temperature_min  Temperature_max  \\\n",
       "4             0               501            79.00            87.64   \n",
       "0             1               791            84.01            95.60   \n",
       "2             2               709            74.50            99.00   \n",
       "\n",
       "   Temperature_mean  Temperature_sd  Temperature_cil  Temperature_cih  \n",
       "4         81.507984        1.468915        78.628911        84.387057  \n",
       "0         87.964665        2.295222        83.466029        92.463301  \n",
       "2         95.422722        2.195980        91.118601        99.726844  "
      ]
     },
     "execution_count": 19,
     "metadata": {},
     "output_type": "execute_result"
    }
   ],
   "source": [
    "# Temperature\n",
    "df_stress >> group_by(X.Stress_Level) >> mutate(\n",
    "    Temperature_size = X.Temperature.count(),\n",
    "    Temperature_min = np.min(X.Temperature),\n",
    "    Temperature_max = np.max(X.Temperature),\n",
    "    Temperature_mean = np.mean(X.Temperature),\n",
    "    Temperature_sd = np.std(X.Temperature),\n",
    "    Temperature_cil = np.mean(X.Temperature) - 1.96 * np.std(X.Temperature),\n",
    "    Temperature_cih = np.mean(X.Temperature) + 1.96 * np.std(X.Temperature)\n",
    ") >> head(1) >> select(\n",
    "    X.Stress_Level,\n",
    "    X.Temperature_size, X.Temperature_min, X.Temperature_max,\n",
    "    X.Temperature_mean, X.Temperature_sd, X.Temperature_cil, X.Temperature_cih\n",
    ")"
   ]
  },
  {
   "cell_type": "code",
   "execution_count": 20,
   "id": "69a2ebbd",
   "metadata": {},
   "outputs": [
    {
     "data": {
      "text/html": [
       "<div>\n",
       "<style scoped>\n",
       "    .dataframe tbody tr th:only-of-type {\n",
       "        vertical-align: middle;\n",
       "    }\n",
       "\n",
       "    .dataframe tbody tr th {\n",
       "        vertical-align: top;\n",
       "    }\n",
       "\n",
       "    .dataframe thead th {\n",
       "        text-align: right;\n",
       "    }\n",
       "</style>\n",
       "<table border=\"1\" class=\"dataframe\">\n",
       "  <thead>\n",
       "    <tr style=\"text-align: right;\">\n",
       "      <th></th>\n",
       "      <th>Stress_Level</th>\n",
       "      <th>Stepcount_size</th>\n",
       "      <th>Stepcount_min</th>\n",
       "      <th>Stepcount_max</th>\n",
       "      <th>Stepcount_mean</th>\n",
       "      <th>Stepcount_sd</th>\n",
       "      <th>Stepcount_cil</th>\n",
       "      <th>Stepcount_cih</th>\n",
       "    </tr>\n",
       "  </thead>\n",
       "  <tbody>\n",
       "    <tr>\n",
       "      <th>4</th>\n",
       "      <td>0</td>\n",
       "      <td>501</td>\n",
       "      <td>0</td>\n",
       "      <td>90</td>\n",
       "      <td>42.964072</td>\n",
       "      <td>26.143064</td>\n",
       "      <td>-8.276333</td>\n",
       "      <td>94.204477</td>\n",
       "    </tr>\n",
       "    <tr>\n",
       "      <th>0</th>\n",
       "      <td>1</td>\n",
       "      <td>791</td>\n",
       "      <td>0</td>\n",
       "      <td>184</td>\n",
       "      <td>78.264223</td>\n",
       "      <td>37.817075</td>\n",
       "      <td>4.142755</td>\n",
       "      <td>152.385690</td>\n",
       "    </tr>\n",
       "    <tr>\n",
       "      <th>2</th>\n",
       "      <td>2</td>\n",
       "      <td>709</td>\n",
       "      <td>67</td>\n",
       "      <td>200</td>\n",
       "      <td>164.889986</td>\n",
       "      <td>20.806972</td>\n",
       "      <td>124.108321</td>\n",
       "      <td>205.671650</td>\n",
       "    </tr>\n",
       "  </tbody>\n",
       "</table>\n",
       "</div>"
      ],
      "text/plain": [
       "   Stress_Level  Stepcount_size  Stepcount_min  Stepcount_max  Stepcount_mean  \\\n",
       "4             0             501              0             90       42.964072   \n",
       "0             1             791              0            184       78.264223   \n",
       "2             2             709             67            200      164.889986   \n",
       "\n",
       "   Stepcount_sd  Stepcount_cil  Stepcount_cih  \n",
       "4     26.143064      -8.276333      94.204477  \n",
       "0     37.817075       4.142755     152.385690  \n",
       "2     20.806972     124.108321     205.671650  "
      ]
     },
     "execution_count": 20,
     "metadata": {},
     "output_type": "execute_result"
    }
   ],
   "source": [
    "# Step count\n",
    "df_stress >> group_by(X.Stress_Level) >> mutate(\n",
    "    Stepcount_size = X.Step_count.count(),\n",
    "    Stepcount_min = np.min(X.Step_count),\n",
    "    Stepcount_max = np.max(X.Step_count),\n",
    "    Stepcount_mean = np.mean(X.Step_count),\n",
    "    Stepcount_sd = np.std(X.Step_count),\n",
    "    Stepcount_cil = np.mean(X.Step_count) - 1.96 * np.std(X.Step_count),\n",
    "    Stepcount_cih = np.mean(X.Step_count) + 1.96 * np.std(X.Step_count)\n",
    ") >> head(1) >> select(\n",
    "    X.Stress_Level,\n",
    "    X.Stepcount_size, X.Stepcount_min, X.Stepcount_max,\n",
    "    X.Stepcount_mean, X.Stepcount_sd, X.Stepcount_cil, X.Stepcount_cih\n",
    ")"
   ]
  },
  {
   "cell_type": "code",
   "execution_count": 21,
   "id": "4ecb2410",
   "metadata": {},
   "outputs": [
    {
     "data": {
      "image/png": "[encoded data removed]",
      "text/plain": [
       "<Figure size 432x288 with 2 Axes>"
      ]
     },
     "metadata": {
      "needs_background": "light"
     },
     "output_type": "display_data"
    }
   ],
   "source": [
    "# Scatter Plot and Boxplot\n",
    "fig, axs = plt.subplots(ncols=2)\n",
    "sns.scatterplot(data=df_stress,\n",
    "                x=\"Stress_Level\", y=\"Step_count\", hue=df_stress.Stress_Level.tolist(),\n",
    "                ax=axs[0])\n",
    "sns.boxplot(data=df_stress,\n",
    "            x=\"Stress_Level\", y=\"Step_count\", hue=df_stress.Stress_Level.tolist(),\n",
    "            ax=axs[1])\n",
    "plt.show()"
   ]
  },
  {
   "cell_type": "code",
   "execution_count": 22,
   "id": "9bfd235b",
   "metadata": {},
   "outputs": [
    {
     "data": {
      "image/png": "[encoded data removed]",
      "text/plain": [
       "<Figure size 432x288 with 2 Axes>"
      ]
     },
     "metadata": {
      "needs_background": "light"
     },
     "output_type": "display_data"
    }
   ],
   "source": [
    "fig, axs = plt.subplots(ncols=2)\n",
    "sns.scatterplot(data=df_stress,\n",
    "                x=\"Stress_Level\", y=\"Humidity\", hue=df_stress.Stress_Level.tolist(),\n",
    "                ax=axs[0])\n",
    "sns.boxplot(data=df_stress,\n",
    "            x=\"Stress_Level\", y=\"Humidity\", hue=df_stress.Stress_Level.tolist(),\n",
    "            ax=axs[1])\n",
    "plt.show()"
   ]
  },
  {
   "cell_type": "code",
   "execution_count": 23,
   "id": "3a679a7e",
   "metadata": {},
   "outputs": [],
   "source": [
    "# Analyses\n",
    "# Data Preparation\n",
    "df_y = df_stress['Stress_Level']\n",
    "df_x = df_stress[df_stress.columns[df_stress.columns != 'Stress_Level']]\n",
    "train_x, test_x, train_y, test_y = train_test_split(df_x, df_y, random_state=42)"
   ]
  },
  {
   "cell_type": "code",
   "execution_count": 24,
   "id": "5e74a942",
   "metadata": {},
   "outputs": [
    {
     "data": {
      "text/plain": [
       "<bound method DataFrame.count of       Humidity  Temperature  Step_count\n",
       "548      15.68        84.68          22\n",
       "937      23.37        92.37         176\n",
       "845      15.17        84.17          62\n",
       "1608     19.88        88.88          92\n",
       "1940     10.50        79.50          50\n",
       "...        ...          ...         ...\n",
       "1130     10.73        79.73          73\n",
       "1294     22.67        91.67         113\n",
       "860      25.38        94.38         164\n",
       "1459     22.68        91.68         114\n",
       "1126     12.92        81.92          19\n",
       "\n",
       "[1500 rows x 3 columns]>"
      ]
     },
     "execution_count": 24,
     "metadata": {},
     "output_type": "execute_result"
    }
   ],
   "source": [
    "train_x.count"
   ]
  },
  {
   "cell_type": "code",
   "execution_count": 25,
   "id": "db37ebf4",
   "metadata": {},
   "outputs": [
    {
     "data": {
      "text/plain": [
       "<bound method DataFrame.count of       Humidity  Temperature  Step_count\n",
       "1394     11.57        80.57          66\n",
       "353      21.63        90.63         115\n",
       "1334     16.12        85.12          66\n",
       "906      15.32        84.32          77\n",
       "1290     11.65        80.65          74\n",
       "...        ...          ...         ...\n",
       "1357     12.47        81.47          65\n",
       "408      28.63        97.63         134\n",
       "1615     28.74        97.74         145\n",
       "694      14.68        83.68          13\n",
       "1649     27.28        96.28         141\n",
       "\n",
       "[501 rows x 3 columns]>"
      ]
     },
     "execution_count": 25,
     "metadata": {},
     "output_type": "execute_result"
    }
   ],
   "source": [
    "test_x.count"
   ]
  },
  {
   "cell_type": "code",
   "execution_count": 35,
   "id": "de49a7e9",
   "metadata": {},
   "outputs": [
    {
     "name": "stdout",
     "output_type": "stream",
     "text": [
      "Accuracy is 99.8003992015968%.\n"
     ]
    }
   ],
   "source": [
    "# Decision Tree\n",
    "# Build a learning model\n",
    "model_dt = tree.DecisionTreeClassifier(max_depth=3, random_state=42)\n",
    "\n",
    "# Set the test data for learning\n",
    "model_dt.fit(train_x, train_y)\n",
    "\n",
    "# Conduct inference\n",
    "test_dt = model_dt.predict(test_x)\n",
    "\n",
    "# Calculate the accuracy\n",
    "score_dt = model_dt.score(test_x, test_y)\n",
    "print(f'Accuracy is {score_dt *100}%.')"
   ]
  },
  {
   "cell_type": "code",
   "execution_count": 30,
   "id": "ccbd3f2e",
   "metadata": {},
   "outputs": [
    {
     "data": {
      "text/plain": [
       "[Text(0.5, 0.8333333333333334, 'Humidity <= 22.905\\ngini = 0.655\\nsamples = 1500\\nvalue = [373, 601, 526]\\nclass = y[1]'),\n",
       " Text(0.25, 0.5, 'Temperature <= 84.005\\ngini = 0.473\\nsamples = 973\\nvalue = [373, 600, 0]\\nclass = y[1]'),\n",
       " Text(0.125, 0.16666666666666666, 'gini = 0.0\\nsamples = 373\\nvalue = [373, 0, 0]\\nclass = y[0]'),\n",
       " Text(0.375, 0.16666666666666666, 'gini = 0.0\\nsamples = 600\\nvalue = [0, 600, 0]\\nclass = y[1]'),\n",
       " Text(0.75, 0.5, 'Humidity <= 30.325\\ngini = 0.004\\nsamples = 527\\nvalue = [0, 1, 526]\\nclass = y[2]'),\n",
       " Text(0.625, 0.16666666666666666, 'gini = 0.0\\nsamples = 526\\nvalue = [0, 0, 526]\\nclass = y[2]'),\n",
       " Text(0.875, 0.16666666666666666, 'gini = 0.0\\nsamples = 1\\nvalue = [0, 1, 0]\\nclass = y[1]')]"
      ]
     },
     "execution_count": 30,
     "metadata": {},
     "output_type": "execute_result"
    },
    {
     "data": {
      "image/png": "[encoded data removed]",
      "text/plain": [
       "<Figure size 432x288 with 1 Axes>"
      ]
     },
     "metadata": {
      "needs_background": "light"
     },
     "output_type": "display_data"
    }
   ],
   "source": [
    "plot_tree(model_dt, feature_names=train_x.columns, class_names=True, filled=True)"
   ]
  },
  {
   "cell_type": "code",
   "execution_count": 36,
   "id": "34ff82f3",
   "metadata": {},
   "outputs": [
    {
     "name": "stdout",
     "output_type": "stream",
     "text": [
      "Accuracy is 83.83233532934132%.\n"
     ]
    }
   ],
   "source": [
    "#  Random Forest\n",
    "# Classification\n",
    "# Build a leaening model\n",
    "model_rf = RandomForestClassifier(max_depth=3, random_state=42)\n",
    "\n",
    "# Set the test data for learning\n",
    "model_rf.fit(train_x, train_y)\n",
    "\n",
    "# Conduct inference\n",
    "test = model_rf.predict(test_x)\n",
    "\n",
    "# Calculate the accuracy\n",
    "score_rfc = accuracy_score(test_y, test)\n",
    "print(f'Accuracy is {score_rfc * 84}%.')"
   ]
  },
  {
   "cell_type": "code",
   "execution_count": 33,
   "id": "e1050528",
   "metadata": {},
   "outputs": [
    {
     "name": "stdout",
     "output_type": "stream",
     "text": [
      "Accuracy is 99.8003992015968%.\n"
     ]
    }
   ],
   "source": [
    "# Regression\n",
    "score_reg = model_rf.score(test_x, test_y)\n",
    "print(f'Accuracy is {score_reg * 100}%.')"
   ]
  },
  {
   "cell_type": "code",
   "execution_count": 37,
   "id": "33f90910",
   "metadata": {},
   "outputs": [
    {
     "name": "stdout",
     "output_type": "stream",
     "text": [
      "RMSE Train: 0.03, Test: 0.04\n",
      "R^2 Train: 1.00, Test: 1.00\n"
     ]
    }
   ],
   "source": [
    "# RMSE and R2 Evaluation\n",
    "# Predict train_x\n",
    "train_y_pred = model_rf.predict(train_x)\n",
    "\n",
    "# Predict test_y\n",
    "test_y_pred = model_rf.predict(test_x)\n",
    "\n",
    "# RMSE\n",
    "print('RMSE Train: %.2f, Test: %.2f' % (\n",
    "        mean_squared_error(train_y, train_y_pred, squared=False), # Train\n",
    "        mean_squared_error(test_y, test_y_pred, squared=False)    # test\n",
    "      ))\n",
    "\n",
    "# R2\n",
    "print('R^2 Train: %.2f, Test: %.2f' % (\n",
    "        r2_score(train_y, train_y_pred), # Train\n",
    "        r2_score(test_y, test_y_pred)    # Test\n",
    "      ))"
   ]
  },
  {
   "cell_type": "code",
   "execution_count": 38,
   "id": "29d3c0e4",
   "metadata": {},
   "outputs": [
    {
     "data": {
      "image/png": "[encoded data removed]",
      "text/plain": [
       "<Figure size 432x288 with 1 Axes>"
      ]
     },
     "metadata": {
      "needs_background": "light"
     },
     "output_type": "display_data"
    }
   ],
   "source": [
    "# Residual Plot Evaluation\n",
    "# Plot predictions and residuals in train data\n",
    "plt.scatter(train_y_pred,\n",
    "            train_y_pred - train_y,\n",
    "            c='blue',\n",
    "            marker='o',\n",
    "            s=40,\n",
    "            alpha=0.7,\n",
    "            label='Train Data')\n",
    "\n",
    "\n",
    "# Plot predictions and residuals in test data\n",
    "plt.scatter(test_y_pred,\n",
    "            test_y_pred - test_y,\n",
    "            c='red',\n",
    "            marker='o',\n",
    "            s=40,\n",
    "            alpha=0.7,\n",
    "            label='Test Data')\n",
    "\n",
    "# Configurate Style\n",
    "plt.xlabel('Predictions')\n",
    "plt.ylabel('Residuals')\n",
    "plt.legend(loc='upper left')\n",
    "plt.hlines(y=0, xmin=-20, xmax=60, lw=2, color='black')\n",
    "plt.xlim([-20, 60])\n",
    "plt.ylim([-50, 40])\n",
    "plt.tight_layout()\n",
    "plt.show()\n"
   ]
  },
  {
   "cell_type": "code",
   "execution_count": null,
   "id": "bb3481cd",
   "metadata": {},
   "outputs": [],
   "source": [
    "# Discussion\n",
    "\n",
    "#  Decision Tree and Random Forest¶\n",
    "# Taking into account accuracy scores, RMSE, R2, and a residual-plot, the both models seem to classify stress levels accurately. However, respective outputs imply that Stress-Lysis data might be inadequate to clasiffication as the box-plots have already shown."
   ]
  },
  {
   "cell_type": "code",
   "execution_count": null,
   "id": "624f1cfe",
   "metadata": {},
   "outputs": [],
   "source": [
    " # GConclusion\n",
    "# GGWhile classification methods such as desicion tree and random forest are frequently used, the findings of this notebook show that moderately classified data might be unsuitable for scrutinizing insightful suggestions."
   ]
  },
  {
   "cell_type": "code",
   "execution_count": null,
   "id": "a9b0732b",
   "metadata": {},
   "outputs": [],
   "source": [
    "# Conclusion\n",
    "# While classification methods such as desicion tree and random forest are frequently used, the findings of this notebook show that moderately classified data might be unsuitable for scrutinizing insightful suggestions."
   ]
  }
 ],
 "metadata": {
  "kernelspec": {
   "display_name": "Python 3 (ipykernel)",
   "language": "python",
   "name": "python3"
  },
  "language_info": {
   "codemirror_mode": {
    "name": "ipython",
    "version": 3
   },
   "file_extension": ".py",
   "mimetype": "text/x-python",
   "name": "python",
   "nbconvert_exporter": "python",
   "pygments_lexer": "ipython3",
   "version": "3.9.12"
  }
 },
 "nbformat": 4,
 "nbformat_minor": 5
}
